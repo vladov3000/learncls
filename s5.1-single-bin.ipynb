{
 "cells": [
  {
   "cell_type": "markdown",
   "metadata": {},
   "source": [
    "## Section 5.1 Counting Expirement Python Implementation\n",
    "\n",
    "Link to paper: https://arxiv.org/pdf/1007.1727.pdf  \n",
    "See page 22 for section 5.1 description."
   ]
  },
  {
   "cell_type": "code",
   "execution_count": 70,
   "metadata": {},
   "outputs": [],
   "source": [
    "import random\n",
    "import math\n",
    "import matplotlib.pyplot as plt\n",
    "import numpy as np\n",
    "from scipy.stats import poisson, norm\n",
    "from scipy.special import gamma\n",
    "\n",
    "%matplotlib inline"
   ]
  },
  {
   "cell_type": "code",
   "execution_count": 21,
   "metadata": {},
   "outputs": [
    {
     "name": "stdout",
     "output_type": "stream",
     "text": [
      "1\n",
      "24\n",
      "3628800\n"
     ]
    }
   ],
   "source": [
    "# Define factorial for non-integer values\n",
    "factorial = lambda x: math.factorial(int(x))\n",
    "print(factorial(0.1))\n",
    "print(factorial(4.9))\n",
    "print(factorial(10.1))"
   ]
  },
  {
   "cell_type": "code",
   "execution_count": 22,
   "metadata": {},
   "outputs": [],
   "source": [
    "# Since computers are bad at comparing floats we should create a value that represents 0\n",
    "EPSILON = 1e-10"
   ]
  },
  {
   "cell_type": "code",
   "execution_count": 23,
   "metadata": {},
   "outputs": [],
   "source": [
    "def pdf_mu0(q_0):\n",
    "    \"\"\" Formula for pdf at mu=0. See Eqn. 49 on page 14 \"\"\"\n",
    "    \n",
    "    delta_t = 0 if q_0 > EPSILON else 0.5 # delta term\n",
    "    q_0 = max(q_0, EPSILON) # avoid 0 to a negative power\n",
    "    return delta_t + (8 * np.pi * q_0) ** -0.5 * np.exp(-0.5 * q_0)"
   ]
  },
  {
   "cell_type": "code",
   "execution_count": 25,
   "metadata": {},
   "outputs": [
    {
     "data": {
      "image/png": "[encoded data removed]",
      "text/plain": [
       "<Figure size 432x288 with 1 Axes>"
      ]
     },
     "metadata": {
      "needs_background": "light"
     },
     "output_type": "display_data"
    }
   ],
   "source": [
    "\"\"\" Plot pdf at mu = 0\"\"\"\n",
    "\n",
    "# Format axes\n",
    "axes = plt.gca()\n",
    "axes.set_yscale('log')\n",
    "axes.set_ylim([10 ** -8, 10])\n",
    "axes.set_xlim([0, 40])\n",
    "axes.set_xlabel('q_0')\n",
    "axes.set_ylabel('f (q_0 | 0)')\n",
    "plt.rcParams[\"figure.figsize\"] = [5, 5]\n",
    "\n",
    "# Plot f(q_0 | 0)\n",
    "x = np.linspace(0, 40, 40_000) # one dimensional vector that represents x values\n",
    "pdfs = np.vectorize(pdf_mu0)(x) # get vector of pdf_mu0 applied to every element of x\n",
    "plt.plot(x, pdfs, color=\"blue\")\n",
    "\n",
    "plt.show()"
   ]
  },
  {
   "cell_type": "code",
   "execution_count": 7,
   "metadata": {},
   "outputs": [],
   "source": [
    "# monte carlo for figure 3a: \n",
    "# 1) need to generate n, m based on inverse CDF of poisson distribution with expected values E[n], E[m]\n",
    "# 2) compute q0 values then plot the histogram of q0 values and then normalize it\n",
    "# Note: 24 bins from 0 to 40"
   ]
  },
  {
   "cell_type": "code",
   "execution_count": 34,
   "metadata": {},
   "outputs": [],
   "source": [
    "\"\"\" Generate expectations (average value) for n and m,\n",
    "    the main and control measurements respectively. \n",
    "    See bottom of page 22 for formulas. \"\"\"\n",
    "\n",
    "def get_E_n(mu, s, b):\n",
    "    return mu * s + b\n",
    "\n",
    "def get_E_m(b, tau):\n",
    "    return tau * b"
   ]
  },
  {
   "cell_type": "markdown",
   "metadata": {},
   "source": [
    "TODO: Implement sampler of Poisson distribution using montecarlo generation. This is covered in the jets tutorial here:\n",
    "https://github.com/smeehan12/ToyMCJetsTutorial/blob/master/Note/ToyMCJetTutorial.pdf\n",
    "\n",
    "Instead, we will use scipy's built in poisson sampler."
   ]
  },
  {
   "cell_type": "code",
   "execution_count": 54,
   "metadata": {},
   "outputs": [],
   "source": [
    "def gen_data(exp, num):\n",
    "    \"\"\" Generate num values along poisson distribution using given expectation. \"\"\"\n",
    "    return [poisson.ppf(random.uniform(0,1), exp) for i in range(0, num)]\n",
    "\n",
    "def gen_ns(mu, s, b, num):\n",
    "    \"\"\" Generate num values of n given parameters. \"\"\"\n",
    "    return gen_data(get_E_n(mu, s, b), num)\n",
    "\n",
    "def gen_ms(b, tau, num):\n",
    "    \"\"\" Generate num values of m given parameters. \"\"\"\n",
    "    return gen_data(get_E_m(b, tau), num)"
   ]
  },
  {
   "cell_type": "code",
   "execution_count": 56,
   "metadata": {},
   "outputs": [
    {
     "name": "stdout",
     "output_type": "stream",
     "text": [
      "E[m]: 5 E[n]: 15\n"
     ]
    },
    {
     "data": {
      "image/png": "[encoded data removed]",
      "text/plain": [
       "<Figure size 432x288 with 1 Axes>"
      ]
     },
     "metadata": {
      "needs_background": "light"
     },
     "output_type": "display_data"
    }
   ],
   "source": [
    "# Check m, n distributions look ok\n",
    "axes = plt.gca()\n",
    "axes.set_yscale('log')\n",
    "axes.set_ylim([10 ** -8, 10])\n",
    "axes.set_xlabel('value')\n",
    "axes.set_ylabel('quantity, normalized')\n",
    "\n",
    "E_m = get_E_m(5, 1)\n",
    "E_n = get_E_n(1, 10, 5)\n",
    "print(f\"E[m]: {E_m} E[n]: {E_n}\")\n",
    "\n",
    "plt.hist(gen_ns(1, 10, 5, 1000), bins=range(80), histtype='step', density=True)\n",
    "plt.hist(gen_ms(5, 1, 1000), bins=range(80), histtype='step', density=True)\n",
    "plt.show()"
   ]
  },
  {
   "cell_type": "markdown",
   "metadata": {},
   "source": [
    "The blue line is our background and the orange is the signal. Notice that the corresponding expectations are at the center of each histogram."
   ]
  },
  {
   "cell_type": "code",
   "execution_count": 89,
   "metadata": {},
   "outputs": [],
   "source": [
    "def get_likelihood_sb(n, m, mu, b, s, tau):\n",
    "    \"\"\" Calculate L(mu, b). Since this is only single bin, \n",
    "    we just multiply two terms together. See Eqn. 90 on page 23. \"\"\"\n",
    "    t1 = (mu * s + b) ** n / factorial(n) * np.exp(-(mu * s + b))\n",
    "    t2 = (tau * b) ** m / factorial(m) * np.exp(-tau * b)\n",
    "    return t1 * t2\n",
    "\n",
    "get_likelihood = get_likelihood_sb # For now we will treat it as the actual likelihood function"
   ]
  },
  {
   "cell_type": "code",
   "execution_count": 90,
   "metadata": {},
   "outputs": [],
   "source": [
    "\"\"\" To find the test statistics q_0, q_mu and ~q_mu, we require the ML estimators mu_hat,\n",
    "b_hat as well as the conditional ML estimator b_hat_hat for a specified mu. See Page 23.\"\"\"\n",
    "\n",
    "def get_mu_hat(n, m, s, tau):\n",
    "    \"\"\" See Eqn. 91 \"\"\"\n",
    "    return (n - m / tau) / s\n",
    "\n",
    "def get_b_hat(m, tau):\n",
    "    \"\"\" See Eqn. 92 \"\"\"\n",
    "    return m / tau\n",
    "\n",
    "def get_b_2hat(n, m, mu, tau):\n",
    "    \"\"\" See Eqn. 93 \"\"\"\n",
    "    t1 = (n + m - (1 + tau) * mu * s) / 2 / (1 + tau)\n",
    "    t2 = (n + m - (1 + tau * mu * s)) ** 2 + 4 * (1 + tau) * m * mu * s\n",
    "    t2 /= 4 * (1 + tau) ** 2\n",
    "    t2 **= 1 / 2\n",
    "    return t1 + t2"
   ]
  },
  {
   "cell_type": "code",
   "execution_count": 45,
   "metadata": {},
   "outputs": [],
   "source": [
    "def get_lambda(n, m, mu, b, s, tau):\n",
    "    \"\"\" Get profile likelihood ratio. See Eqn. 7 on page 4. \"\"\"\n",
    "    t1 = get_likelihood(n, m, mu, get_b_2hat(n, m, mu, tau), s, tau)\n",
    "    t2 = get_likelihood(n, m, get_mu_hat(n, m, s, tau), get_b_hat(m, tau), s, tau)\n",
    "    return t1 / t2\n",
    "\n",
    "def get_t_lambda(n, m, mu):\n",
    "    \"\"\" Get profile likelihood ratio for mu >= 0. See Eqn. 16 on page 8. \"\"\"\n",
    "    t1 = get_likelihood(n, m, mu, get_b_2hat(n, m, mu),s, tau)\n",
    "    if get_mu_hat(n, m) < 0:\n",
    "        t2 = likelihood(n, m, 0, get_b_hat(0), s, tau)\n",
    "    else:\n",
    "        t2 = likelihood(n, m, get_mu_hat(n, m, s, tau), get_b_hat(m), s, tau)\n",
    "    return t1 / t2"
   ]
  },
  {
   "cell_type": "code",
   "execution_count": 58,
   "metadata": {},
   "outputs": [],
   "source": [
    "def get_q_0(n, m, b, s, tau):\n",
    "    \"\"\" Calculate q at mu = 0. See Eqn. 12 on page 7.\"\"\"\n",
    "    if get_mu_hat(n, m, s, tau) < 0: return 0\n",
    "    return -2 * np.log(get_lambda(n, m, 0, b, s, tau))\n",
    "\n",
    "def get_q_mu(n, m, mu, b, s, tau):\n",
    "    \"\"\" Calculate q given mu. See Eqn. 14 on page 7.\"\"\"\n",
    "    if get_mu_hat(n, m, s, tau) > mu: return 0\n",
    "    return -2 * math.log(get_lambda(n, m, mu, b, s, tau))\n",
    "\n",
    "def get_t_q_mu(n, m, mu, b, s, tau):\n",
    "    \"\"\" Calculate q for mu >= 0. See Eqn. 16 on page 8.\"\"\"\n",
    "    if get_mu_hat(n, m, s, tau) > mu: return 0\n",
    "    return -2 * math.log(get_t_lambda(n, m, mu, b, s, tau))"
   ]
  },
  {
   "cell_type": "code",
   "execution_count": 112,
   "metadata": {},
   "outputs": [],
   "source": [
    "def phi(a):\n",
    "    \"\"\" CDF of Gaussian \"\"\"\n",
    "    return norm.cdf(a)\n",
    "\n",
    "def get_std_dev(q_0, mu_p, b, s, tau):\n",
    "    \"\"\" Calculate std. dev. Used in f(q_0 | 1). See Eqn. 32\"\"\"\n",
    "    E_q_0 = get_q_0(mu_p * s + b, b * tau, b, s, tau)\n",
    "    return (mu_p ** 2 / E_q_0) ** 0.5\n",
    "\n",
    "def pdf(q_0, mu_p, b, s, tau):\n",
    "    \"\"\" pdf function for the given mu prime. See Eqn. 48 \"\"\"\n",
    "    std_dev = get_std_dev(max(q_0, EPSILON), mu_p, b, s, tau)\n",
    "    delta_t = 0 if q_0 > EPSILON else 1 - phi(mu_p / std_dev) # delta term\n",
    "    q_0 = max(q_0, EPSILON) # avoid 0 to a negative power\n",
    "    return delta_t + (8 * np.pi * q_0) ** -0.5 * np.exp(-0.5 * (q_0 ** 0.5 - mu_p / std_dev) ** 2)"
   ]
  },
  {
   "cell_type": "code",
   "execution_count": 122,
   "metadata": {},
   "outputs": [
    {
     "data": {
      "image/png": "[encoded data removed]",
      "text/plain": [
       "<Figure size 360x360 with 1 Axes>"
      ]
     },
     "metadata": {
      "needs_background": "light"
     },
     "output_type": "display_data"
    }
   ],
   "source": [
    "\"\"\" Recreate fig 3 (a) on page 24. \"\"\"\n",
    "\n",
    "# Input parameters\n",
    "bs = [2, 5, 20]\n",
    "styles = {2: ('red','solid'), \n",
    "          5: ('brown', 'dashed'), \n",
    "          20: ('blue', 'dotted')} # linestyles & colors for each b\n",
    "tau = 1\n",
    "mu = 0\n",
    "s = 10\n",
    "gen_num = 10_000\n",
    "\n",
    "# Setup axes\n",
    "axes = plt.gca()\n",
    "axes.set_yscale('log')\n",
    "axes.set_ylim([10 ** -8, 10])\n",
    "axes.set_xlim([0, 40])\n",
    "axes.set_xlabel('q_0')\n",
    "axes.set_ylabel('f (q_0 | 0)')\n",
    "plt.rcParams[\"figure.figsize\"] = [5, 5]\n",
    "\n",
    "# Plot f(q_0 | 0)\n",
    "x = np.linspace(0, 40, 40_000) # one dimensional vector that represents x values\n",
    "pdfs = np.vectorize(pdf_mu0)(x) # get vector of pdf_mu0 applied to every element of x\n",
    "plt.plot(x, pdfs, color=\"black\", label=f'f(q_0|0)')\n",
    "\n",
    "# Plot montecarlo for given bs\n",
    "for b in bs:\n",
    "    ns = gen_ns(mu, s, b, gen_num)\n",
    "    ms = gen_ms(b, tau, gen_num)\n",
    "    q_0s = [get_q_0(ns[i], ms[i], b, s, tau) for i in range(0, len(ns))]\n",
    "    weights = np.ones_like(q_0s) / float(len(q_0s)) # normalize q_0s\n",
    "    plt.hist(q_0s, weights=weights, histtype='step', label=f'b={b}', \n",
    "             color=styles[b][0], linestyle=styles[b][1])\n",
    "\n",
    "plt.legend(loc=\"upper right\")\n",
    "plt.show()"
   ]
  },
  {
   "cell_type": "code",
   "execution_count": 124,
   "metadata": {},
   "outputs": [
    {
     "data": {
      "image/png": "[encoded data removed]",
      "text/plain": [
       "<Figure size 360x360 with 1 Axes>"
      ]
     },
     "metadata": {
      "needs_background": "light"
     },
     "output_type": "display_data"
    }
   ],
   "source": [
    "\"\"\" Recreat fig 3 (b) on page 24. \"\"\"\n",
    "# Input parameters\n",
    "b = 20\n",
    "tau = 1\n",
    "s = 10\n",
    "gen_num = 10_000\n",
    "\n",
    "# Format axes\n",
    "axes = plt.gca()\n",
    "axes.set_yscale('log')\n",
    "axes.set_ylim([10 ** -8, 10])\n",
    "axes.set_xlim([0, 40])\n",
    "axes.set_xlabel('q_0')\n",
    "axes.set_ylabel('f (q_0 | mu)')\n",
    "plt.rcParams[\"figure.figsize\"] = [5, 5]\n",
    "\n",
    "# Plot f(q_0 | 0)\n",
    "x = np.linspace(0, 40, 40_000) # one dimensional vector that represents x values\n",
    "pdfs = np.vectorize(pdf_mu0)(x) # get vector of pdf_mu0 applied to every element of x\n",
    "plt.plot(x, pdfs, color=\"black\")\n",
    "\n",
    "# Plot f(q_0 | 1)\n",
    "# x = np.linspace(0, 40, 40_000) # one dimensional vector that represents x values\n",
    "pdfs = np.vectorize(lambda x: pdf(x, 1, b, s, tau))(x) # get vector of pdf applied to every element of x\n",
    "plt.plot(x, pdfs, color=\"black\")\n",
    "\n",
    "# Get n and m\n",
    "ns = gen_ns(mu, s, b, gen_num)\n",
    "ms = gen_ms(b, tau, gen_num)\n",
    "\n",
    "# Plot mu = 0 montecarlo\n",
    "q_0s = [get_q_0(ns[i], ms[i], b, s, tau) for i in range(0, len(ns))]\n",
    "weights = np.ones_like(q_0s) / float(len(q_0s))\n",
    "plt.hist(q_0s, weights=weights, histtype='step', color='blue', linestyle='dashed')\n",
    "\n",
    "# Plot mu = 1 montecarlo\n",
    "q_0s_mu1 = [get_q_mu(ns[i], ms[i], 1, b, s, tau) for i in range(0, len(ns))]\n",
    "weights = np.ones_like(q_0s_mu1) / float(len(q_0s_mu1))\n",
    "plt.hist(q_0s_mu1, weights=weights, histtype='step', color='red', linestyle='dashed')\n",
    "\n",
    "plt.show()"
   ]
  },
  {
   "cell_type": "code",
   "execution_count": null,
   "metadata": {},
   "outputs": [],
   "source": []
  }
 ],
 "metadata": {
  "kernelspec": {
   "display_name": "Python 3",
   "language": "python",
   "name": "python3"
  },
  "language_info": {
   "codemirror_mode": {
    "name": "ipython",
    "version": 3
   },
   "file_extension": ".py",
   "mimetype": "text/x-python",
   "name": "python",
   "nbconvert_exporter": "python",
   "pygments_lexer": "ipython3",
   "version": "3.7.7"
  }
 },
 "nbformat": 4,
 "nbformat_minor": 4
}
