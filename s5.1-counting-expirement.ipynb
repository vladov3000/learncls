{
 "cells": [
  {
   "cell_type": "code",
   "execution_count": 1,
   "metadata": {},
   "outputs": [],
   "source": [
    "import random\n",
    "import numpy as np\n",
    "import math\n",
    "import scipy.special\n",
    "import matplotlib\n",
    "import matplotlib.pyplot as plt\n",
    "\n",
    "%matplotlib inline"
   ]
  },
  {
   "cell_type": "code",
   "execution_count": 2,
   "metadata": {},
   "outputs": [],
   "source": [
    "def gamma(n):\n",
    "    return factorial(n-1)"
   ]
  },
  {
   "cell_type": "code",
   "execution_count": 6,
   "metadata": {},
   "outputs": [],
   "source": [
    "def lambert_w(z):\n",
    "  \"\"\"\n",
    "  Lambert W function, principal branch.\n",
    "  See http://en.wikipedia.org/wiki/Lambert_W_function\n",
    "  Code taken from http://keithbriggs.info/software.html\n",
    "  \"\"\"\n",
    "  eps=4.0e-16\n",
    "  em1=0.3678794411714423215955237701614608\n",
    "  assert(z>=-em1)\n",
    "  if 0.0==z: \n",
    "      return 0.0\n",
    "  if z<-em1+1e-4:\n",
    "      q=z+em1\n",
    "      r=math.sqrt(q)\n",
    "      q2=q*q\n",
    "      q3=q2*q\n",
    "      return\\\n",
    "       -1.0\\\n",
    "       +2.331643981597124203363536062168*r\\\n",
    "       -1.812187885639363490240191647568*q\\\n",
    "       +1.936631114492359755363277457668*r*q\\\n",
    "       -2.353551201881614516821543561516*q2\\\n",
    "       +3.066858901050631912893148922704*r*q2\\\n",
    "       -4.175335600258177138854984177460*q3\\\n",
    "       +5.858023729874774148815053846119*r*q3\\\n",
    "       -8.401032217523977370984161688514*q3*q\n",
    "  if z<1.0:\n",
    "      p=math.sqrt(2.0*(2.7182818284590452353602874713526625*z+1.0))\n",
    "      w=-1.0+p*(1.0+p*(-0.333333333333333333333+p*0.152777777777777777777777))\n",
    "  else:\n",
    "      w=math.log(z)\n",
    "  if z>3.0: \n",
    "      w-=math.log(w)\n",
    "  for i in range(10):\n",
    "      e=math.exp(w)\n",
    "      t=w*e-z\n",
    "      p=w+1.0\n",
    "      t/=e*p-0.5*(p+1.0)*t/p\n",
    "      w-=t\n",
    "      if abs(t)<eps*(1.0+abs(w)): \n",
    "          return w\n",
    "  raise(AssertionError, 'Unhandled value %1.2f'%z)\n",
    "\n",
    "def gamma_inverse(x):\n",
    "  \"\"\"\n",
    "  Inverse the gamma function.\n",
    "  http://mathoverflow.net/questions/12828/inverse-gamma-function\n",
    "  \"\"\"\n",
    "  k=1.461632 # the positive zero of the digamma function, scipy.special.psi\n",
    "  assert x>=k, 'gamma(x) is strictly increasing for x >= k, k=%1.2f, x=%1.2f' % (k, x)\n",
    "  C=math.sqrt(2*np.pi)/np.e - scipy.special.gamma(k) # approximately 0.036534\n",
    "  L=np.log((x+C)/np.sqrt(2*np.pi))\n",
    "  gamma_inv = 0.5+L/lambert_w(L/np.e)\n",
    "  return gamma_inv"
   ]
  },
  {
   "cell_type": "code",
   "execution_count": 7,
   "metadata": {},
   "outputs": [],
   "source": [
    "def plot_func(func, x=np.linspace(0,5,3001)):\n",
    "    y = np.vectorize(func)(x)\n",
    "    plt.plot(x, y)\n",
    "    plt.show()"
   ]
  },
  {
   "cell_type": "code",
   "execution_count": 8,
   "metadata": {},
   "outputs": [
    {
     "data": {
      "image/png": "[encoded data removed]",
      "text/plain": [
       "<Figure size 432x288 with 1 Axes>"
      ]
     },
     "metadata": {
      "needs_background": "light"
     },
     "output_type": "display_data"
    },
    {
     "data": {
      "image/png": "[encoded data removed]",
      "text/plain": [
       "<Figure size 432x288 with 1 Axes>"
      ]
     },
     "metadata": {
      "needs_background": "light"
     },
     "output_type": "display_data"
    }
   ],
   "source": [
    "plot_func(lambert_w)\n",
    "plot_func(gamma_inverse, x=np.linspace(2,7,30001))"
   ]
  },
  {
   "cell_type": "code",
   "execution_count": 9,
   "metadata": {},
   "outputs": [],
   "source": [
    "def montecarlo_pdfmu0(method='ism'):\n",
    "    # Generates variable on the distribution\n",
    "    \n",
    "    if method == 'ism':\n",
    "        # Using inverse sampling method: \n",
    "        # https://en.wikipedia.org/wiki/Inverse_transform_sampling#The_method\n",
    "\n",
    "        # We need to calulate inverse of CDF for eqn49\n",
    "        # https://www.wolframalpha.com/input/?i=e%5E%28-x%2F2%29%2Fsqrt%288%5Cpi+x%29%2Bdelta%28x%29%2F2%3Dy%2C+solve+x\n",
    "\n",
    "        inp = 1.0 / 8 / math.pi / random.uniform(0,1) ** 2\n",
    "        return lambert_w(inp)\n",
    "    \n",
    "    elif method == 'nd':\n",
    "        # For n=1, we can just square a number generated along the normal distribution\n",
    "        # See page 8 of https://ntrs.nasa.gov/archive/nasa/casi.ntrs.nasa.gov/19830007824.pdf\n",
    "        \n",
    "        return 0.5 * np.random.normal(0, 1) ** 2"
   ]
  },
  {
   "cell_type": "code",
   "execution_count": 10,
   "metadata": {},
   "outputs": [],
   "source": [
    "def pdfmu0(q_0):\n",
    "    # Formula for pdf at mu0\n",
    "    return (8 * math.pi + q_0) ** -0.5 * np.exp(-0.5 * q_0)"
   ]
  },
  {
   "cell_type": "code",
   "execution_count": 11,
   "metadata": {},
   "outputs": [
    {
     "data": {
      "text/plain": [
       "0.05590229042910466"
      ]
     },
     "execution_count": 11,
     "metadata": {},
     "output_type": "execute_result"
    }
   ],
   "source": [
    "# Run it one time to see what we get\n",
    "montecarlo_pdfmu0()"
   ]
  },
  {
   "cell_type": "code",
   "execution_count": 15,
   "metadata": {},
   "outputs": [],
   "source": [
    "def plot_distribution(dis, n=10_000, nbins=100, **kwargs):\n",
    "    points = [dis(**kwargs) for i in range(n)]\n",
    "    \n",
    "    ax = plt.gca()\n",
    "    plt.title(dis.__name__ + str(kwargs))\n",
    "    plt.hist(points, nbins)\n",
    "    plt.show()"
   ]
  },
  {
   "cell_type": "code",
   "execution_count": 16,
   "metadata": {},
   "outputs": [
    {
     "data": {
      "image/png": "[encoded data removed]",
      "text/plain": [
       "<Figure size 432x288 with 1 Axes>"
      ]
     },
     "metadata": {
      "needs_background": "light"
     },
     "output_type": "display_data"
    },
    {
     "data": {
      "image/png": "[encoded data removed]",
      "text/plain": [
       "<Figure size 432x288 with 1 Axes>"
      ]
     },
     "metadata": {
      "needs_background": "light"
     },
     "output_type": "display_data"
    },
    {
     "data": {
      "image/png": "[encoded data removed]",
      "text/plain": [
       "<Figure size 432x288 with 1 Axes>"
      ]
     },
     "metadata": {
      "needs_background": "light"
     },
     "output_type": "display_data"
    }
   ],
   "source": [
    "plot_distribution(np.random.normal)\n",
    "plot_distribution(montecarlo_pdfmu0)\n",
    "plot_distribution(montecarlo_pdfmu0, method='nd')"
   ]
  },
  {
   "cell_type": "code",
   "execution_count": null,
   "metadata": {},
   "outputs": [],
   "source": []
  },
  {
   "cell_type": "code",
   "execution_count": null,
   "metadata": {},
   "outputs": [],
   "source": []
  }
 ],
 "metadata": {
  "kernelspec": {
   "display_name": "Python 3",
   "language": "python",
   "name": "python3"
  },
  "language_info": {
   "codemirror_mode": {
    "name": "ipython",
    "version": 3
   },
   "file_extension": ".py",
   "mimetype": "text/x-python",
   "name": "python",
   "nbconvert_exporter": "python",
   "pygments_lexer": "ipython3",
   "version": "3.7.7"
  }
 },
 "nbformat": 4,
 "nbformat_minor": 2
}
