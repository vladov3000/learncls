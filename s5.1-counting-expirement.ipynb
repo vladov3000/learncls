{
 "cells": [
  {
   "cell_type": "code",
   "execution_count": 111,
   "metadata": {},
   "outputs": [],
   "source": [
    "import random\n",
    "import numpy as np\n",
    "import math\n",
    "from math import factorial, exp\n",
    "import scipy.special\n",
    "import matplotlib\n",
    "import matplotlib.pyplot as plt\n",
    "from scipy.stats import poisson\n",
    "\n",
    "%matplotlib inline"
   ]
  },
  {
   "cell_type": "code",
   "execution_count": 4,
   "metadata": {},
   "outputs": [],
   "source": [
    "# Some stuff for formatting math\n",
    "SUB = str.maketrans(\"0123456789\", \"₀₁₂₃₄₅₆₇₈₉\")\n",
    "SUP = str.maketrans(\"0123456789\", \"⁰¹²³⁴⁵⁶⁷⁸⁹\")"
   ]
  },
  {
   "cell_type": "code",
   "execution_count": 5,
   "metadata": {},
   "outputs": [],
   "source": [
    "def gamma(n):\n",
    "    return factorial(n-1)"
   ]
  },
  {
   "cell_type": "code",
   "execution_count": 6,
   "metadata": {},
   "outputs": [],
   "source": [
    "def lambert_w(z):\n",
    "  \"\"\"\n",
    "  Lambert W function, principal branch.\n",
    "  See http://en.wikipedia.org/wiki/Lambert_W_function\n",
    "  Code taken from http://keithbriggs.info/software.html\n",
    "  \"\"\"\n",
    "  eps=4.0e-16\n",
    "  em1=0.3678794411714423215955237701614608\n",
    "  assert(z>=-em1)\n",
    "  if 0.0==z: \n",
    "      return 0.0\n",
    "  if z<-em1+1e-4:\n",
    "      q=z+em1\n",
    "      r=math.sqrt(q)\n",
    "      q2=q*q\n",
    "      q3=q2*q\n",
    "      return\\\n",
    "       -1.0\\\n",
    "       +2.331643981597124203363536062168*r\\\n",
    "       -1.812187885639363490240191647568*q\\\n",
    "       +1.936631114492359755363277457668*r*q\\\n",
    "       -2.353551201881614516821543561516*q2\\\n",
    "       +3.066858901050631912893148922704*r*q2\\\n",
    "       -4.175335600258177138854984177460*q3\\\n",
    "       +5.858023729874774148815053846119*r*q3\\\n",
    "       -8.401032217523977370984161688514*q3*q\n",
    "  if z<1.0:\n",
    "      p=math.sqrt(2.0*(2.7182818284590452353602874713526625*z+1.0))\n",
    "      w=-1.0+p*(1.0+p*(-0.333333333333333333333+p*0.152777777777777777777777))\n",
    "  else:\n",
    "      w=math.log(z)\n",
    "  if z>3.0: \n",
    "      w-=math.log(w)\n",
    "  for i in range(10):\n",
    "      e=math.exp(w)\n",
    "      t=w*e-z\n",
    "      p=w+1.0\n",
    "      t/=e*p-0.5*(p+1.0)*t/p\n",
    "      w-=t\n",
    "      if abs(t)<eps*(1.0+abs(w)): \n",
    "          return w\n",
    "  raise(AssertionError, 'Unhandled value %1.2f'%z)\n",
    "\n",
    "def gamma_inverse(x):\n",
    "  \"\"\"\n",
    "  Inverse the gamma function.\n",
    "  http://mathoverflow.net/questions/12828/inverse-gamma-function\n",
    "  \"\"\"\n",
    "  k=1.461632 # the positive zero of the digamma function, scipy.special.psi\n",
    "  assert x>=k, 'gamma(x) is strictly increasing for x >= k, k=%1.2f, x=%1.2f' % (k, x)\n",
    "  C=math.sqrt(2*np.pi)/np.e - scipy.special.gamma(k) # approximately 0.036534\n",
    "  L=np.log((x+C)/np.sqrt(2*np.pi))\n",
    "  gamma_inv = 0.5+L/lambert_w(L/np.e)\n",
    "  return gamma_inv"
   ]
  },
  {
   "cell_type": "code",
   "execution_count": 7,
   "metadata": {},
   "outputs": [],
   "source": [
    "def plot_func(func, x=np.linspace(0,5,3001), logscale=False, ylim=[], xlabel='', ylabel=''):\n",
    "    y = np.vectorize(func)(x)\n",
    "    axes = plt.gca()\n",
    "    if logscale: axes.set_yscale('log')\n",
    "    if len(ylim) == 2: axes.set_ylim(ylim)\n",
    "    if xlabel: axes.set_xlabel(xlabel)\n",
    "    if ylabel: axes.set_ylabel(ylabel)\n",
    "    plt.title(func.__name__)\n",
    "    plt.plot(x, y)\n",
    "    plt.show()"
   ]
  },
  {
   "cell_type": "code",
   "execution_count": 8,
   "metadata": {},
   "outputs": [
    {
     "data": {
      "image/png": "[encoded data removed]",
      "text/plain": [
       "<Figure size 432x288 with 1 Axes>"
      ]
     },
     "metadata": {
      "needs_background": "light"
     },
     "output_type": "display_data"
    },
    {
     "data": {
      "image/png": "[encoded data removed]",
      "text/plain": [
       "<Figure size 432x288 with 1 Axes>"
      ]
     },
     "metadata": {
      "needs_background": "light"
     },
     "output_type": "display_data"
    }
   ],
   "source": [
    "plot_func(lambert_w)\n",
    "plot_func(gamma_inverse, x=np.linspace(2,7,30001))"
   ]
  },
  {
   "cell_type": "code",
   "execution_count": 65,
   "metadata": {},
   "outputs": [],
   "source": [
    "def montecarlo_pdfmu0(method='ism'):\n",
    "    # Generates variable on the distribution\n",
    "    \n",
    "    if method == 'ism':\n",
    "        # Using inverse sampling method: \n",
    "        # https://en.wikipedia.org/wiki/Inverse_transform_sampling#The_method\n",
    "\n",
    "        # CDF is \n",
    "        # We need to calulate inverse of CDF for eqn49\n",
    "        # https://www.wolframalpha.com/input/?i=e%5E%28-x%2F2%29%2Fsqrt%288%5Cpi+x%29%2Bdelta%28x%29%2F2%3Dy%2C+solve+x\n",
    "\n",
    "        inp = 1.0 / 8 / math.pi / random.uniform(0,1) ** 2\n",
    "        return lambert_w(inp)\n",
    "    \n",
    "    elif method == 'nd':\n",
    "        # For n=1, we can just square a number generated along the normal distribution\n",
    "        # See page 8 of https://ntrs.nasa.gov/archive/nasa/casi.ntrs.nasa.gov/19830007824.pdf\n",
    "        \n",
    "        return 0.5 * np.random.normal(0, 1) ** 2"
   ]
  },
  {
   "cell_type": "code",
   "execution_count": 155,
   "metadata": {},
   "outputs": [],
   "source": [
    "def delta(n):\n",
    "    return 1 if n == 0 else 0\n",
    "\n",
    "def pdfmu0(q_0):\n",
    "    # Formula for pdf at mu0\n",
    "    if q_0 < 1e-5: q_0 = 1e-5\n",
    "    return (8 * math.pi * q_0) ** -0.5 * np.exp(-0.5 * q_0)"
   ]
  },
  {
   "cell_type": "code",
   "execution_count": 11,
   "metadata": {},
   "outputs": [
    {
     "data": {
      "text/plain": [
       "0.05723058790280495"
      ]
     },
     "execution_count": 11,
     "metadata": {},
     "output_type": "execute_result"
    }
   ],
   "source": [
    "# Run it one time to see what we get\n",
    "montecarlo_pdfmu0()"
   ]
  },
  {
   "cell_type": "code",
   "execution_count": 81,
   "metadata": {},
   "outputs": [],
   "source": [
    "def plot_distribution(dis, n=10_000, nbins=40, normalize=False, logscale=False, **kwargs):\n",
    "    points = [dis(**kwargs) for i in range(n)]\n",
    "    \n",
    "    axes = plt.gca()\n",
    "    plt.title(dis.__name__ + str(kwargs))\n",
    "    if logscale: axes.set_yscale('log')\n",
    "    if normalize:\n",
    "        weights = np.ones_like(points)/float(len(points))\n",
    "        plt.hist(points, nbins, weights=weights)\n",
    "    else:\n",
    "        plt.hist(points, nbins)\n",
    "    plt.show()"
   ]
  },
  {
   "cell_type": "code",
   "execution_count": 82,
   "metadata": {},
   "outputs": [
    {
     "data": {
      "image/png": "[encoded data removed]",
      "text/plain": [
       "<Figure size 432x288 with 1 Axes>"
      ]
     },
     "metadata": {
      "needs_background": "light"
     },
     "output_type": "display_data"
    },
    {
     "data": {
      "image/png": "[encoded data removed]",
      "text/plain": [
       "<Figure size 432x288 with 1 Axes>"
      ]
     },
     "metadata": {
      "needs_background": "light"
     },
     "output_type": "display_data"
    },
    {
     "data": {
      "image/png": "[encoded data removed]",
      "text/plain": [
       "<Figure size 432x288 with 1 Axes>"
      ]
     },
     "metadata": {
      "needs_background": "light"
     },
     "output_type": "display_data"
    }
   ],
   "source": [
    "plot_distribution(np.random.normal)\n",
    "plot_distribution(montecarlo_pdfmu0, normalize=True, logscale=True)\n",
    "plot_distribution(montecarlo_pdfmu0, normalize=True, logscale=True, method='nd')"
   ]
  },
  {
   "cell_type": "code",
   "execution_count": 63,
   "metadata": {},
   "outputs": [
    {
     "data": {
      "image/png": "[encoded data removed]",
      "text/plain": [
       "<Figure size 432x288 with 1 Axes>"
      ]
     },
     "metadata": {
      "needs_background": "light"
     },
     "output_type": "display_data"
    }
   ],
   "source": [
    "# Using eq49 to recreate black line in Fig 3(a)\n",
    "plot_func(pdfmu0, logscale=True, x=np.linspace(0, 40, 40_000), \n",
    "          ylim=[10 ** -8, 10], xlabel='q_0', ylabel='f (q_0 | 0)')"
   ]
  },
  {
   "cell_type": "code",
   "execution_count": 176,
   "metadata": {},
   "outputs": [],
   "source": [
    "b = 2\n",
    "tau = 10\n",
    "mu = 0\n",
    "s = 10\n",
    "GEN_NUM = 100_000"
   ]
  },
  {
   "cell_type": "code",
   "execution_count": 177,
   "metadata": {},
   "outputs": [
    {
     "name": "stdout",
     "output_type": "stream",
     "text": [
      "E[m]: 20 E[n]: 2\n"
     ]
    }
   ],
   "source": [
    "# Calculate (q, f(q_0|0)) for b = 2, 5, 20\n",
    "E_m = tau * b\n",
    "E_n = mu * s + b\n",
    "print(f\"E[m]: {E_m} E[n]: {E_n}\")\n",
    "\n",
    "# monte carlo generation *should* happen internally https://people.maths.ox.ac.uk/gilesm/talks/poisson_2013.pdf\n",
    "# buts it's more likely scipy uses an estimate rather than the actual inverse CDF (which is slow to compute)\n",
    "ms = [poisson.ppf(random.uniform(0,1), E_m) for i in range(0, GEN_NUM)]\n",
    "ns = [poisson.ppf(random.uniform(0,1), E_n) for i in range(0, GEN_NUM)]"
   ]
  },
  {
   "cell_type": "code",
   "execution_count": 106,
   "metadata": {},
   "outputs": [
    {
     "data": {
      "image/png": "[encoded data removed]",
      "text/plain": [
       "<Figure size 432x288 with 1 Axes>"
      ]
     },
     "metadata": {
      "needs_background": "light"
     },
     "output_type": "display_data"
    }
   ],
   "source": [
    "# Check n, m look ok\n",
    "axes = plt.gca()\n",
    "axes.set_yscale('log')\n",
    "axes.set_ylim([10 ** -8, 10])\n",
    "plt.hist(ms, bins=range(80), histtype='step', density=True)\n",
    "plt.hist(ns, bins=range(80), histtype='step', density=True)\n",
    "plt.show()"
   ]
  },
  {
   "cell_type": "code",
   "execution_count": 116,
   "metadata": {},
   "outputs": [],
   "source": [
    "def likelihood(n, m, mu, b, tau):\n",
    "    t1 = (mu * s + b) ** n / factorial(n) * exp(b - mu * s)\n",
    "    t2 = (tau * b) ** m / factorial(m) * exp(-tau * b)\n",
    "    return t1 * t2"
   ]
  },
  {
   "cell_type": "code",
   "execution_count": 117,
   "metadata": {},
   "outputs": [
    {
     "data": {
      "image/png": "[encoded data removed]",
      "text/plain": [
       "<Figure size 432x288 with 1 Axes>"
      ]
     },
     "metadata": {
      "needs_background": "light"
     },
     "output_type": "display_data"
    }
   ],
   "source": [
    "axes = plt.gca()\n",
    "axes.set_yscale('log')\n",
    "axes.set_ylim([10 ** -8, 10])\n",
    "points = [likelihood(ns[i], ms[i], 0, b, tau) for i in range(GEN_NUM)]\n",
    "plt.hist(ms, bins=range(80), histtype='step', density=True)\n",
    "plt.show()"
   ]
  },
  {
   "cell_type": "code",
   "execution_count": 120,
   "metadata": {},
   "outputs": [],
   "source": [
    "def mu_hat(n, m, s, tau):\n",
    "    if s == 0: return 0\n",
    "    return (n - m / tau) / s\n",
    "\n",
    "def b_hat(m, tau):\n",
    "    if tau == 0: return 0\n",
    "    return m / tau\n",
    "\n",
    "def b_2hat(n, m, mu, s):\n",
    "    t1 = (n + m - (1 + tau) * mu * s) / 2 / (1 + tau)\n",
    "    t2 = (n + m - (1 + tau * mu * s)) ** 2 + 4 * (1 + tau) * m * mu * s\n",
    "    t2 /= 4 * (1 + tau) ** 2\n",
    "    t2 **= 1 / 2\n",
    "    return t1 + t2"
   ]
  },
  {
   "cell_type": "code",
   "execution_count": 122,
   "metadata": {},
   "outputs": [
    {
     "name": "stdout",
     "output_type": "stream",
     "text": [
      "0\n",
      "2.2\n",
      "2.0454545454545454\n"
     ]
    }
   ],
   "source": [
    "print(mu_hat(ns[0], ms[0], s, tau))\n",
    "print(b_hat(ms[0], tau))\n",
    "print(b_2hat(ns[0], ms[0], mu, s))"
   ]
  },
  {
   "cell_type": "code",
   "execution_count": 138,
   "metadata": {},
   "outputs": [],
   "source": [
    "def prof_likelihood_ratio(n, m, mu, s, tau):\n",
    "    t1 = likelihood(n, m, mu, b_2hat(n, m, mu, s), tau)\n",
    "    t2 = likelihood(n, m, mu_hat(n, m, s, tau), b_hat(m, tau), tau)\n",
    "    return t1 / t2\n",
    "\n",
    "def t_prof_likelihood_ratio(n, m, mu, s, tau):\n",
    "    t1 = likelihood(n, m, mu, b_2hat(n, m, mu, s), tau)\n",
    "    if mu_hat(n, m, s, tau) < 0:\n",
    "        t2 = likelihood(n, m, 0, b_hat(0, tau), tau)\n",
    "    else:\n",
    "        t2 = likelihood(n, m, mu_hat(n, m, s, tau), b_hat(m, tau), tau)\n",
    "    return t1 / t2\n",
    "\n",
    "lambda_plr = prof_likelihood_ratio"
   ]
  },
  {
   "cell_type": "code",
   "execution_count": 139,
   "metadata": {},
   "outputs": [
    {
     "name": "stdout",
     "output_type": "stream",
     "text": [
      "0.7525037040895862\n"
     ]
    }
   ],
   "source": [
    "print(lambda_plr(ns[0], ms[0], mu, s, tau))"
   ]
  },
  {
   "cell_type": "code",
   "execution_count": 140,
   "metadata": {},
   "outputs": [],
   "source": [
    "def get_q_0(n, m, s, tau):\n",
    "    if mu_hat(n, m, s, tau) < 0: return 0\n",
    "    return -2 * math.log(lambda_plr(n, m, 0, s, tau))\n",
    "\n",
    "def get_q_mu(n, m, mu, s, tau):\n",
    "    if mu_hat(n, m, s, tau) > mu: return 0\n",
    "    return -2 * math.log(lambda_plr(n, m, mu, s, tau))\n",
    "\n",
    "def get_t_q_mu(n, m, mu, s, tau):\n",
    "    if mu_hat(n, m, s, tau) > mu: return 0\n",
    "    return -2 * math.log(t_prof_likelihood_ratio(n, m, mu, s, tau))"
   ]
  },
  {
   "cell_type": "code",
   "execution_count": 141,
   "metadata": {},
   "outputs": [
    {
     "name": "stdout",
     "output_type": "stream",
     "text": [
      "0.5686987199860669\n",
      "0.5686987199860669\n",
      "0.5686987199860669\n"
     ]
    }
   ],
   "source": [
    "print(get_q_0(ns[0], ms[0], s, tau))\n",
    "print(get_q_mu(ns[0], ms[0], mu, s, tau))\n",
    "print(get_t_q_mu(ns[0], ms[0], mu, s, tau))\n",
    "# Results make sense since mu = 0, so q_0 = q_mu \n",
    "# and mu_hat >= 0 => lambda_plr == t_prof_likelihood_ratio => t_q_mu == q_mu"
   ]
  },
  {
   "cell_type": "code",
   "execution_count": 169,
   "metadata": {},
   "outputs": [
    {
     "name": "stdout",
     "output_type": "stream",
     "text": [
      "0\n",
      "13.20678670522147\n",
      "7.441563522906565e-05\n"
     ]
    }
   ],
   "source": [
    "print(get_q_0(ns[0], ms[0], s, tau))\n",
    "print(get_q_mu(ns[0], ms[0], 0.7, s, tau))\n",
    "print(pdfmu0(get_q_mu(ns[0], ms[0], 0.7, s, tau)))"
   ]
  },
  {
   "cell_type": "code",
   "execution_count": 186,
   "metadata": {},
   "outputs": [
    {
     "data": {
      "image/png": "[encoded data removed]",
      "text/plain": [
       "<Figure size 432x288 with 1 Axes>"
      ]
     },
     "metadata": {
      "needs_background": "light"
     },
     "output_type": "display_data"
    }
   ],
   "source": [
    "axes = plt.gca()\n",
    "axes.set_yscale('log')\n",
    "axes.set_ylim([10 ** -8, 10])\n",
    "axes.set_xlabel('q_0')\n",
    "axes.set_ylabel('f (q_0 | 0)')\n",
    "plt.rcParams[\"figure.figsize\"] = (20,3)\n",
    "\n",
    "x = np.linspace(0, 40, 40_000)\n",
    "pdfs = np.vectorize(pdfmu0)(x)\n",
    "plt.plot(x, pdfs)\n",
    "\n",
    "q_0s = [get_q_0(ns[i], ms[i], s, tau) for i in range(GEN_NUM)]\n",
    "plt.hist(q_0s, bins=range(20), histtype='step', density=True)\n",
    "plt.show()"
   ]
  },
  {
   "cell_type": "code",
   "execution_count": null,
   "metadata": {},
   "outputs": [],
   "source": []
  }
 ],
 "metadata": {
  "kernelspec": {
   "display_name": "Python 3",
   "language": "python",
   "name": "python3"
  },
  "language_info": {
   "codemirror_mode": {
    "name": "ipython",
    "version": 3
   },
   "file_extension": ".py",
   "mimetype": "text/x-python",
   "name": "python",
   "nbconvert_exporter": "python",
   "pygments_lexer": "ipython3",
   "version": "3.7.7"
  }
 },
 "nbformat": 4,
 "nbformat_minor": 2
}
