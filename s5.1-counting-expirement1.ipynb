{
 "cells": [
  {
   "cell_type": "markdown",
   "metadata": {},
   "source": [
    "## Section 5.1 Counting Expirement Python Implementation\n",
    "\n",
    "Link to paper: https://arxiv.org/pdf/1007.1727.pdf  \n",
    "See page 22 for section 5.1 description."
   ]
  },
  {
   "cell_type": "code",
   "execution_count": 1,
   "metadata": {},
   "outputs": [],
   "source": [
    "import numpy as np\n",
    "import matplotlib.pyplot as plt\n",
    "from scipy.stats import poisson, norm\n",
    "from scipy.special import gamma\n",
    "import random\n",
    "\n",
    "%matplotlib inline"
   ]
  },
  {
   "cell_type": "code",
   "execution_count": 2,
   "metadata": {},
   "outputs": [],
   "source": [
    "# Since computers are bad at comparing floats we should create a value that represents 0\n",
    "EPSILON = 1e-10"
   ]
  },
  {
   "cell_type": "code",
   "execution_count": 3,
   "metadata": {},
   "outputs": [],
   "source": [
    "def pdf_mu0(q_0):\n",
    "    \"\"\" Formula for pdf at mu=0. See Eqn. 49 on page 14 \"\"\"\n",
    "    \n",
    "    delta_t = 0 if q_0 > EPSILON else 0.5 # delta term\n",
    "    q_0 = max(q_0, EPSILON) # avoid 0 to a negative power\n",
    "    return delta_t + (8 * np.pi * q_0) ** -0.5 * np.exp(-0.5 * q_0)"
   ]
  },
  {
   "cell_type": "code",
   "execution_count": 4,
   "metadata": {},
   "outputs": [
    {
     "data": {
      "text/plain": [
       "19947.614019074277"
      ]
     },
     "execution_count": 4,
     "metadata": {},
     "output_type": "execute_result"
    }
   ],
   "source": [
    "pdf_mu0(0)"
   ]
  },
  {
   "cell_type": "code",
   "execution_count": 5,
   "metadata": {},
   "outputs": [
    {
     "data": {
      "image/png": "[encoded data removed]",
      "text/plain": [
       "<Figure size 432x288 with 1 Axes>"
      ]
     },
     "metadata": {
      "needs_background": "light"
     },
     "output_type": "display_data"
    }
   ],
   "source": [
    "\"\"\" Plot pdf at mu = 0\"\"\"\n",
    "\n",
    "# Format axes\n",
    "axes = plt.gca()\n",
    "axes.set_yscale('log')\n",
    "axes.set_ylim([10 ** -8, 10])\n",
    "axes.set_xlim([0, 40])\n",
    "axes.set_xlabel('q_0')\n",
    "axes.set_ylabel('f (q_0 | 0)')\n",
    "plt.rcParams[\"figure.figsize\"] = [5, 5]\n",
    "\n",
    "# Plot f(q_0 | 0)\n",
    "x = np.linspace(0, 40, 40_000) # one dimensional vector that represents x values\n",
    "pdfs = np.vectorize(pdf_mu0)(x) # get vector of pdf_mu0 applied to every element of x\n",
    "plt.plot(x, pdfs, color=\"blue\")\n",
    "\n",
    "plt.show()"
   ]
  },
  {
   "cell_type": "code",
   "execution_count": 6,
   "metadata": {},
   "outputs": [],
   "source": [
    "# Define some hyperparameters\n",
    "b = 2\n",
    "tau = 10\n",
    "mu = 0\n",
    "s = 10 # for mu = 0 signal value doesn't really matter\n",
    "gen_num = 10_000"
   ]
  },
  {
   "cell_type": "code",
   "execution_count": 7,
   "metadata": {},
   "outputs": [
    {
     "name": "stdout",
     "output_type": "stream",
     "text": [
      "E[m]: 20 E[n]: 2\n"
     ]
    }
   ],
   "source": [
    "# Calculate expectations for m and n\n",
    "E_m = tau * b\n",
    "E_n = mu * s + b\n",
    "print(f\"E[m]: {E_m} E[n]: {E_n}\")\n",
    "\n",
    "# Generate m and n values along a poisson distribution\n",
    "ms = [poisson.ppf(random.uniform(0,1), E_m) for i in range(0, gen_num)]\n",
    "ns = [poisson.ppf(random.uniform(0,1), E_n) for i in range(0, gen_num)]"
   ]
  },
  {
   "cell_type": "code",
   "execution_count": 8,
   "metadata": {},
   "outputs": [
    {
     "data": {
      "image/png": "[encoded data removed]",
      "text/plain": [
       "<Figure size 360x360 with 1 Axes>"
      ]
     },
     "metadata": {
      "needs_background": "light"
     },
     "output_type": "display_data"
    }
   ],
   "source": [
    "# Check m, n distributions look ok\n",
    "axes = plt.gca()\n",
    "axes.set_yscale('log')\n",
    "axes.set_ylim([10 ** -8, 10])\n",
    "axes.set_xlabel('value of ')\n",
    "axes.set_ylabel('quantity of m, normalized')\n",
    "plt.hist(ms, bins=range(80), histtype='step', density=True, color='orange')\n",
    "plt.hist(ns, bins=range(80), histtype='step', density=True)\n",
    "plt.show()"
   ]
  },
  {
   "cell_type": "code",
   "execution_count": 9,
   "metadata": {},
   "outputs": [],
   "source": [
    "def get_likelihood(n, m, mu, b, s=s, tau=tau):\n",
    "    \"\"\" Calculate L(mu, b). Since this is only single bin, \n",
    "    we just multiply two terms together. See Eqn. 90 on page 23. \"\"\"\n",
    "    t1 = (mu * s + b) ** n / gamma(n) * np.exp(-(mu * s + b))\n",
    "    t2 = (tau * b) ** m / gamma(m) * np.exp(-tau * b)\n",
    "    return t1 * t2"
   ]
  },
  {
   "cell_type": "code",
   "execution_count": 19,
   "metadata": {},
   "outputs": [],
   "source": [
    "\"\"\" To find the test statistics q_0, q_mu and ~q_mu, we require the ML estimators mu_hat,\n",
    "b_hat as well as the conditional ML estimator b_hat_hat for a specified mu. Page 23.\"\"\"\n",
    "\n",
    "def get_mu_hat(n, m, s=s, tau=tau):\n",
    "    \"\"\" See Eqn. 91 \"\"\"\n",
    "    return (n - m / tau) / s\n",
    "\n",
    "def get_b_hat(m, tau=tau):\n",
    "    \"\"\" See Eqn. 92 \"\"\"\n",
    "    return m / tau\n",
    "\n",
    "def get_b_2hat(n, m, mu, tau=tau):\n",
    "    \"\"\" See Eqn. 93 \"\"\"\n",
    "    t1 = (n + m - (1 + tau) * mu * s) / 2 / (1 + tau)\n",
    "    t2 = (n + m - (1 + tau * mu * s)) ** 2 + 4 * (1 + tau) * m * mu * s\n",
    "    t2 /= 4 * (1 + tau) ** 2\n",
    "    t2 **= 1 / 2\n",
    "    return t1 + t2"
   ]
  },
  {
   "cell_type": "code",
   "execution_count": 11,
   "metadata": {},
   "outputs": [],
   "source": [
    "def get_lambda(n, m, mu):\n",
    "    \"\"\" Get profile likelihood ratio. See Eqn. 7 on page 4. \"\"\"\n",
    "    t1 = get_likelihood(n, m, mu, get_b_2hat(n, m, mu))\n",
    "    t2 = get_likelihood(n, m, get_mu_hat(n, m), get_b_hat(m))\n",
    "    return t1 / t2\n",
    "\n",
    "def get_t_lambda(n, m, mu):\n",
    "    \"\"\" Get profile likelihood ratio for mu >= 0. See Eqn. 16 on page 8. \"\"\"\n",
    "    t1 = likelihood(n, m, mu, get_b_2hat(n, m, mu))\n",
    "    if get_mu_hat(n, m) < 0:\n",
    "        t2 = likelihood(n, m, 0, b=get_b_hat(0))\n",
    "    else:\n",
    "        t2 = likelihood(n, m, get_mu_hat(n, m, s, tau=tau), b=get_b_hat(m))\n",
    "    return t1 / t2"
   ]
  },
  {
   "cell_type": "code",
   "execution_count": 12,
   "metadata": {},
   "outputs": [],
   "source": [
    "def get_q_0(n, m):\n",
    "    \"\"\" Calculate q at mu = 0. See Eqn. 12 on page 7.\"\"\"\n",
    "    if get_mu_hat(n, m) < 0: return 0\n",
    "    return -2 * np.log(get_lambda(n, m, 0))\n",
    "\n",
    "def get_q_mu(n, m, mu, s=s, tau=tau):\n",
    "    \"\"\" Calculate q given mu. See Eqn. 14 on page 7.\"\"\"\n",
    "    if mu_hat(n, m) > mu: return 0\n",
    "    return -2 * math.log(lambda_plr(n, m, mu, s, tau))\n",
    "\n",
    "def get_t_q_mu(n, m, mu, s=s, tau=tau):\n",
    "    \"\"\" Calculate q for mu >= 0. See Eqn. 16 on page 8.\"\"\"\n",
    "    if mu_hat(n, m) > mu: return 0\n",
    "    return -2 * math.log(t_prof_likelihood_ratio(n, m, mu, s, tau))"
   ]
  },
  {
   "cell_type": "code",
   "execution_count": 13,
   "metadata": {},
   "outputs": [],
   "source": [
    "def phi(a):\n",
    "    \"\"\" CDF of Gaussian \"\"\"\n",
    "    return norm.cdf(a)"
   ]
  },
  {
   "cell_type": "code",
   "execution_count": 14,
   "metadata": {},
   "outputs": [],
   "source": [
    "def get_std_dev(q_0, mu_p, mu=mu, s=s, b=b, tau=tau):\n",
    "    \"\"\" Calculate std. dev. Used in f(q_0 | 1). See Eqn. 32\"\"\"\n",
    "    E_q_0 = get_q_0(mu * s + b, b * tau)\n",
    "    return (mu_p ** 2 / E_q_0) ** 0.5\n",
    "\n",
    "def pdf(q_0, mu_p):\n",
    "    \"\"\" pdf function for the given mu prime. See Eqn. 48 \"\"\"\n",
    "    std_dev = get_std_dev(max(q_0, EPSILON), mu_p)\n",
    "    delta_t = 0 if q_0 > EPSILON else 1 - phi(mu_p / std_dev) # delta term\n",
    "    q_0 = max(q_0, EPSILON) # avoid 0 to a negative power\n",
    "    return delta_t + (8 * np.pi * q_0) ** -0.5 * np.exp(-0.5 * (q_0 ** 0.5 - mu_p / std_dev) ** 2)"
   ]
  },
  {
   "cell_type": "markdown",
   "metadata": {},
   "source": [
    "## Graphing"
   ]
  },
  {
   "cell_type": "code",
   "execution_count": 21,
   "metadata": {},
   "outputs": [
    {
     "name": "stdout",
     "output_type": "stream",
     "text": [
      "E[m]: 2 E[n]: 2\n"
     ]
    },
    {
     "name": "stderr",
     "output_type": "stream",
     "text": [
      "/usr/local/lib/python3.7/site-packages/ipykernel_launcher.py:5: RuntimeWarning: invalid value encountered in double_scalars\n",
      "  \"\"\"\n"
     ]
    }
   ],
   "source": [
    "# Parameters\n",
    "b = 2\n",
    "tau = 1\n",
    "mu = 0\n",
    "s = 1 # for mu = 0 signal value doesn't really matter\n",
    "gen_num = 10_000\n",
    "\n",
    "# Calculate expectations for m and n\n",
    "E_m = tau * b\n",
    "E_n = mu * s + b\n",
    "print(f\"E[m]: {E_m} E[n]: {E_n}\")\n",
    "\n",
    "# Calculate m and n values\n",
    "ms = [poisson.ppf(random.uniform(0,1), E_m) for i in range(0, gen_num)]\n",
    "ns = [poisson.ppf(random.uniform(0,1), E_n) for i in range(0, gen_num)]\n",
    "\n",
    "# Compute q_0s\n",
    "q_0s = [get_q_0(ns[i], ms[i]) for i in range(0, len(ns))]"
   ]
  },
  {
   "cell_type": "code",
   "execution_count": 22,
   "metadata": {},
   "outputs": [
    {
     "data": {
      "image/png": "[encoded data removed]",
      "text/plain": [
       "<Figure size 360x360 with 1 Axes>"
      ]
     },
     "metadata": {
      "needs_background": "light"
     },
     "output_type": "display_data"
    }
   ],
   "source": [
    "\"\"\" Recreat fig 3 (a) on page 24. \"\"\"\n",
    "\n",
    "# Format axes\n",
    "axes = plt.gca()\n",
    "axes.set_yscale('log')\n",
    "axes.set_ylim([10 ** -8, 10])\n",
    "axes.set_xlim([0, 40])\n",
    "axes.set_xlabel('q_0')\n",
    "axes.set_ylabel('f (q_0 | 0)')\n",
    "plt.rcParams[\"figure.figsize\"] = [5, 5]\n",
    "\n",
    "# Plot f(q_0 | 0)\n",
    "x = np.linspace(0, 40, 40_000) # one dimensional vector that represents x values\n",
    "pdfs = np.vectorize(pdf_mu0)(x) # get vector of pdf_mu0 applied to every element of x\n",
    "plt.plot(x, pdfs, color=\"black\")\n",
    "\n",
    "# Plot b = 2 montecarlo\n",
    "weights = np.ones_like(q_0s)/float(len(q_0s))\n",
    "plt.hist(q_0s, bins=range(100000), weights=weights, histtype='step', color='red')\n",
    "\n",
    "plt.show()"
   ]
  },
  {
   "cell_type": "code",
   "execution_count": 23,
   "metadata": {},
   "outputs": [
    {
     "name": "stdout",
     "output_type": "stream",
     "text": [
      "E[m]: 10 E[n]: 10\n"
     ]
    }
   ],
   "source": [
    "# Parameters\n",
    "b = 10\n",
    "tau = 1\n",
    "mu = 0\n",
    "s = 10 #\n",
    "gen_num = 10_000\n",
    "\n",
    "# Calculate expectations for m and n\n",
    "E_m = tau * b\n",
    "E_n = mu * s + b\n",
    "print(f\"E[m]: {E_m} E[n]: {E_n}\")\n",
    "\n",
    "# Calculate m and n values\n",
    "ms = [poisson.ppf(random.uniform(0,1), E_m) for i in range(0, gen_num)]\n",
    "ns = [poisson.ppf(random.uniform(0,1), E_n) for i in range(0, gen_num)]\n",
    "\n",
    "# Compute q_0s\n",
    "q_0s_mu0 =  [get_q_0(ns[i], ms[i]) for i in range(0, len(ns))]"
   ]
  },
  {
   "cell_type": "code",
   "execution_count": 24,
   "metadata": {},
   "outputs": [
    {
     "ename": "ZeroDivisionError",
     "evalue": "division by zero",
     "output_type": "error",
     "traceback": [
      "\u001b[0;31m---------------------------------------------------------------------------\u001b[0m",
      "\u001b[0;31mZeroDivisionError\u001b[0m                         Traceback (most recent call last)",
      "\u001b[0;32m<ipython-input-24-464f7a4dfcc8>\u001b[0m in \u001b[0;36m<module>\u001b[0;34m\u001b[0m\n\u001b[1;32m     17\u001b[0m \u001b[0;31m# Plot f(q_0 | 1)\u001b[0m\u001b[0;34m\u001b[0m\u001b[0;34m\u001b[0m\u001b[0;34m\u001b[0m\u001b[0m\n\u001b[1;32m     18\u001b[0m \u001b[0mx\u001b[0m \u001b[0;34m=\u001b[0m \u001b[0mnp\u001b[0m\u001b[0;34m.\u001b[0m\u001b[0mlinspace\u001b[0m\u001b[0;34m(\u001b[0m\u001b[0;36m0\u001b[0m\u001b[0;34m,\u001b[0m \u001b[0;36m40\u001b[0m\u001b[0;34m,\u001b[0m \u001b[0;36m40_000\u001b[0m\u001b[0;34m)\u001b[0m \u001b[0;31m# one dimensional vector that represents x values\u001b[0m\u001b[0;34m\u001b[0m\u001b[0;34m\u001b[0m\u001b[0m\n\u001b[0;32m---> 19\u001b[0;31m \u001b[0mpdfs\u001b[0m \u001b[0;34m=\u001b[0m \u001b[0mnp\u001b[0m\u001b[0;34m.\u001b[0m\u001b[0mvectorize\u001b[0m\u001b[0;34m(\u001b[0m\u001b[0;32mlambda\u001b[0m \u001b[0mx\u001b[0m\u001b[0;34m:\u001b[0m \u001b[0mpdf\u001b[0m\u001b[0;34m(\u001b[0m\u001b[0mx\u001b[0m\u001b[0;34m,\u001b[0m \u001b[0;36m1\u001b[0m\u001b[0;34m)\u001b[0m\u001b[0;34m)\u001b[0m\u001b[0;34m(\u001b[0m\u001b[0mx\u001b[0m\u001b[0;34m)\u001b[0m \u001b[0;31m# get vector of pdf applied to every element of x\u001b[0m\u001b[0;34m\u001b[0m\u001b[0;34m\u001b[0m\u001b[0m\n\u001b[0m\u001b[1;32m     20\u001b[0m \u001b[0mplt\u001b[0m\u001b[0;34m.\u001b[0m\u001b[0mplot\u001b[0m\u001b[0;34m(\u001b[0m\u001b[0mx\u001b[0m\u001b[0;34m,\u001b[0m \u001b[0mpdfs\u001b[0m\u001b[0;34m,\u001b[0m \u001b[0mcolor\u001b[0m\u001b[0;34m=\u001b[0m\u001b[0;34m\"black\"\u001b[0m\u001b[0;34m)\u001b[0m\u001b[0;34m\u001b[0m\u001b[0;34m\u001b[0m\u001b[0m\n\u001b[1;32m     21\u001b[0m \u001b[0;34m\u001b[0m\u001b[0m\n",
      "\u001b[0;32m/usr/local/lib/python3.7/site-packages/numpy/lib/function_base.py\u001b[0m in \u001b[0;36m__call__\u001b[0;34m(self, *args, **kwargs)\u001b[0m\n\u001b[1;32m   2089\u001b[0m             \u001b[0mvargs\u001b[0m\u001b[0;34m.\u001b[0m\u001b[0mextend\u001b[0m\u001b[0;34m(\u001b[0m\u001b[0;34m[\u001b[0m\u001b[0mkwargs\u001b[0m\u001b[0;34m[\u001b[0m\u001b[0m_n\u001b[0m\u001b[0;34m]\u001b[0m \u001b[0;32mfor\u001b[0m \u001b[0m_n\u001b[0m \u001b[0;32min\u001b[0m \u001b[0mnames\u001b[0m\u001b[0;34m]\u001b[0m\u001b[0;34m)\u001b[0m\u001b[0;34m\u001b[0m\u001b[0;34m\u001b[0m\u001b[0m\n\u001b[1;32m   2090\u001b[0m \u001b[0;34m\u001b[0m\u001b[0m\n\u001b[0;32m-> 2091\u001b[0;31m         \u001b[0;32mreturn\u001b[0m \u001b[0mself\u001b[0m\u001b[0;34m.\u001b[0m\u001b[0m_vectorize_call\u001b[0m\u001b[0;34m(\u001b[0m\u001b[0mfunc\u001b[0m\u001b[0;34m=\u001b[0m\u001b[0mfunc\u001b[0m\u001b[0;34m,\u001b[0m \u001b[0margs\u001b[0m\u001b[0;34m=\u001b[0m\u001b[0mvargs\u001b[0m\u001b[0;34m)\u001b[0m\u001b[0;34m\u001b[0m\u001b[0;34m\u001b[0m\u001b[0m\n\u001b[0m\u001b[1;32m   2092\u001b[0m \u001b[0;34m\u001b[0m\u001b[0m\n\u001b[1;32m   2093\u001b[0m     \u001b[0;32mdef\u001b[0m \u001b[0m_get_ufunc_and_otypes\u001b[0m\u001b[0;34m(\u001b[0m\u001b[0mself\u001b[0m\u001b[0;34m,\u001b[0m \u001b[0mfunc\u001b[0m\u001b[0;34m,\u001b[0m \u001b[0margs\u001b[0m\u001b[0;34m)\u001b[0m\u001b[0;34m:\u001b[0m\u001b[0;34m\u001b[0m\u001b[0;34m\u001b[0m\u001b[0m\n",
      "\u001b[0;32m/usr/local/lib/python3.7/site-packages/numpy/lib/function_base.py\u001b[0m in \u001b[0;36m_vectorize_call\u001b[0;34m(self, func, args)\u001b[0m\n\u001b[1;32m   2159\u001b[0m             \u001b[0mres\u001b[0m \u001b[0;34m=\u001b[0m \u001b[0mfunc\u001b[0m\u001b[0;34m(\u001b[0m\u001b[0;34m)\u001b[0m\u001b[0;34m\u001b[0m\u001b[0;34m\u001b[0m\u001b[0m\n\u001b[1;32m   2160\u001b[0m         \u001b[0;32melse\u001b[0m\u001b[0;34m:\u001b[0m\u001b[0;34m\u001b[0m\u001b[0;34m\u001b[0m\u001b[0m\n\u001b[0;32m-> 2161\u001b[0;31m             \u001b[0mufunc\u001b[0m\u001b[0;34m,\u001b[0m \u001b[0motypes\u001b[0m \u001b[0;34m=\u001b[0m \u001b[0mself\u001b[0m\u001b[0;34m.\u001b[0m\u001b[0m_get_ufunc_and_otypes\u001b[0m\u001b[0;34m(\u001b[0m\u001b[0mfunc\u001b[0m\u001b[0;34m=\u001b[0m\u001b[0mfunc\u001b[0m\u001b[0;34m,\u001b[0m \u001b[0margs\u001b[0m\u001b[0;34m=\u001b[0m\u001b[0margs\u001b[0m\u001b[0;34m)\u001b[0m\u001b[0;34m\u001b[0m\u001b[0;34m\u001b[0m\u001b[0m\n\u001b[0m\u001b[1;32m   2162\u001b[0m \u001b[0;34m\u001b[0m\u001b[0m\n\u001b[1;32m   2163\u001b[0m             \u001b[0;31m# Convert args to object arrays first\u001b[0m\u001b[0;34m\u001b[0m\u001b[0;34m\u001b[0m\u001b[0;34m\u001b[0m\u001b[0m\n",
      "\u001b[0;32m/usr/local/lib/python3.7/site-packages/numpy/lib/function_base.py\u001b[0m in \u001b[0;36m_get_ufunc_and_otypes\u001b[0;34m(self, func, args)\u001b[0m\n\u001b[1;32m   2119\u001b[0m \u001b[0;34m\u001b[0m\u001b[0m\n\u001b[1;32m   2120\u001b[0m             \u001b[0minputs\u001b[0m \u001b[0;34m=\u001b[0m \u001b[0;34m[\u001b[0m\u001b[0marg\u001b[0m\u001b[0;34m.\u001b[0m\u001b[0mflat\u001b[0m\u001b[0;34m[\u001b[0m\u001b[0;36m0\u001b[0m\u001b[0;34m]\u001b[0m \u001b[0;32mfor\u001b[0m \u001b[0marg\u001b[0m \u001b[0;32min\u001b[0m \u001b[0margs\u001b[0m\u001b[0;34m]\u001b[0m\u001b[0;34m\u001b[0m\u001b[0;34m\u001b[0m\u001b[0m\n\u001b[0;32m-> 2121\u001b[0;31m             \u001b[0moutputs\u001b[0m \u001b[0;34m=\u001b[0m \u001b[0mfunc\u001b[0m\u001b[0;34m(\u001b[0m\u001b[0;34m*\u001b[0m\u001b[0minputs\u001b[0m\u001b[0;34m)\u001b[0m\u001b[0;34m\u001b[0m\u001b[0;34m\u001b[0m\u001b[0m\n\u001b[0m\u001b[1;32m   2122\u001b[0m \u001b[0;34m\u001b[0m\u001b[0m\n\u001b[1;32m   2123\u001b[0m             \u001b[0;31m# Performance note: profiling indicates that -- for simple\u001b[0m\u001b[0;34m\u001b[0m\u001b[0;34m\u001b[0m\u001b[0;34m\u001b[0m\u001b[0m\n",
      "\u001b[0;32m<ipython-input-24-464f7a4dfcc8>\u001b[0m in \u001b[0;36m<lambda>\u001b[0;34m(x)\u001b[0m\n\u001b[1;32m     17\u001b[0m \u001b[0;31m# Plot f(q_0 | 1)\u001b[0m\u001b[0;34m\u001b[0m\u001b[0;34m\u001b[0m\u001b[0;34m\u001b[0m\u001b[0m\n\u001b[1;32m     18\u001b[0m \u001b[0mx\u001b[0m \u001b[0;34m=\u001b[0m \u001b[0mnp\u001b[0m\u001b[0;34m.\u001b[0m\u001b[0mlinspace\u001b[0m\u001b[0;34m(\u001b[0m\u001b[0;36m0\u001b[0m\u001b[0;34m,\u001b[0m \u001b[0;36m40\u001b[0m\u001b[0;34m,\u001b[0m \u001b[0;36m40_000\u001b[0m\u001b[0;34m)\u001b[0m \u001b[0;31m# one dimensional vector that represents x values\u001b[0m\u001b[0;34m\u001b[0m\u001b[0;34m\u001b[0m\u001b[0m\n\u001b[0;32m---> 19\u001b[0;31m \u001b[0mpdfs\u001b[0m \u001b[0;34m=\u001b[0m \u001b[0mnp\u001b[0m\u001b[0;34m.\u001b[0m\u001b[0mvectorize\u001b[0m\u001b[0;34m(\u001b[0m\u001b[0;32mlambda\u001b[0m \u001b[0mx\u001b[0m\u001b[0;34m:\u001b[0m \u001b[0mpdf\u001b[0m\u001b[0;34m(\u001b[0m\u001b[0mx\u001b[0m\u001b[0;34m,\u001b[0m \u001b[0;36m1\u001b[0m\u001b[0;34m)\u001b[0m\u001b[0;34m)\u001b[0m\u001b[0;34m(\u001b[0m\u001b[0mx\u001b[0m\u001b[0;34m)\u001b[0m \u001b[0;31m# get vector of pdf applied to every element of x\u001b[0m\u001b[0;34m\u001b[0m\u001b[0;34m\u001b[0m\u001b[0m\n\u001b[0m\u001b[1;32m     20\u001b[0m \u001b[0mplt\u001b[0m\u001b[0;34m.\u001b[0m\u001b[0mplot\u001b[0m\u001b[0;34m(\u001b[0m\u001b[0mx\u001b[0m\u001b[0;34m,\u001b[0m \u001b[0mpdfs\u001b[0m\u001b[0;34m,\u001b[0m \u001b[0mcolor\u001b[0m\u001b[0;34m=\u001b[0m\u001b[0;34m\"black\"\u001b[0m\u001b[0;34m)\u001b[0m\u001b[0;34m\u001b[0m\u001b[0;34m\u001b[0m\u001b[0m\n\u001b[1;32m     21\u001b[0m \u001b[0;34m\u001b[0m\u001b[0m\n",
      "\u001b[0;32m<ipython-input-14-1504934cc321>\u001b[0m in \u001b[0;36mpdf\u001b[0;34m(q_0, mu_p)\u001b[0m\n\u001b[1;32m      6\u001b[0m \u001b[0;32mdef\u001b[0m \u001b[0mpdf\u001b[0m\u001b[0;34m(\u001b[0m\u001b[0mq_0\u001b[0m\u001b[0;34m,\u001b[0m \u001b[0mmu_p\u001b[0m\u001b[0;34m)\u001b[0m\u001b[0;34m:\u001b[0m\u001b[0;34m\u001b[0m\u001b[0;34m\u001b[0m\u001b[0m\n\u001b[1;32m      7\u001b[0m     \u001b[0;34m\"\"\" pdf function for the given mu prime. See Eqn. 48 \"\"\"\u001b[0m\u001b[0;34m\u001b[0m\u001b[0;34m\u001b[0m\u001b[0m\n\u001b[0;32m----> 8\u001b[0;31m     \u001b[0mstd_dev\u001b[0m \u001b[0;34m=\u001b[0m \u001b[0mget_std_dev\u001b[0m\u001b[0;34m(\u001b[0m\u001b[0mmax\u001b[0m\u001b[0;34m(\u001b[0m\u001b[0mq_0\u001b[0m\u001b[0;34m,\u001b[0m \u001b[0mEPSILON\u001b[0m\u001b[0;34m)\u001b[0m\u001b[0;34m,\u001b[0m \u001b[0mmu_p\u001b[0m\u001b[0;34m)\u001b[0m\u001b[0;34m\u001b[0m\u001b[0;34m\u001b[0m\u001b[0m\n\u001b[0m\u001b[1;32m      9\u001b[0m     \u001b[0mdelta_t\u001b[0m \u001b[0;34m=\u001b[0m \u001b[0;36m0\u001b[0m \u001b[0;32mif\u001b[0m \u001b[0mq_0\u001b[0m \u001b[0;34m>\u001b[0m \u001b[0mEPSILON\u001b[0m \u001b[0;32melse\u001b[0m \u001b[0;36m1\u001b[0m \u001b[0;34m-\u001b[0m \u001b[0mphi\u001b[0m\u001b[0;34m(\u001b[0m\u001b[0mmu_p\u001b[0m \u001b[0;34m/\u001b[0m \u001b[0mstd_dev\u001b[0m\u001b[0;34m)\u001b[0m \u001b[0;31m# delta term\u001b[0m\u001b[0;34m\u001b[0m\u001b[0;34m\u001b[0m\u001b[0m\n\u001b[1;32m     10\u001b[0m     \u001b[0mq_0\u001b[0m \u001b[0;34m=\u001b[0m \u001b[0mmax\u001b[0m\u001b[0;34m(\u001b[0m\u001b[0mq_0\u001b[0m\u001b[0;34m,\u001b[0m \u001b[0mEPSILON\u001b[0m\u001b[0;34m)\u001b[0m \u001b[0;31m# avoid 0 to a negative power\u001b[0m\u001b[0;34m\u001b[0m\u001b[0;34m\u001b[0m\u001b[0m\n",
      "\u001b[0;32m<ipython-input-14-1504934cc321>\u001b[0m in \u001b[0;36mget_std_dev\u001b[0;34m(q_0, mu_p, mu, s, b, tau)\u001b[0m\n\u001b[1;32m      2\u001b[0m     \u001b[0;34m\"\"\" Calculate std. dev. Used in f(q_0 | 1). See Eqn. 32\"\"\"\u001b[0m\u001b[0;34m\u001b[0m\u001b[0;34m\u001b[0m\u001b[0m\n\u001b[1;32m      3\u001b[0m     \u001b[0mE_q_0\u001b[0m \u001b[0;34m=\u001b[0m \u001b[0mget_q_0\u001b[0m\u001b[0;34m(\u001b[0m\u001b[0mmu\u001b[0m \u001b[0;34m*\u001b[0m \u001b[0ms\u001b[0m \u001b[0;34m+\u001b[0m \u001b[0mb\u001b[0m\u001b[0;34m,\u001b[0m \u001b[0mb\u001b[0m \u001b[0;34m*\u001b[0m \u001b[0mtau\u001b[0m\u001b[0;34m)\u001b[0m\u001b[0;34m\u001b[0m\u001b[0;34m\u001b[0m\u001b[0m\n\u001b[0;32m----> 4\u001b[0;31m     \u001b[0;32mreturn\u001b[0m \u001b[0;34m(\u001b[0m\u001b[0mmu_p\u001b[0m \u001b[0;34m**\u001b[0m \u001b[0;36m2\u001b[0m \u001b[0;34m/\u001b[0m \u001b[0mE_q_0\u001b[0m\u001b[0;34m)\u001b[0m \u001b[0;34m**\u001b[0m \u001b[0;36m0.5\u001b[0m\u001b[0;34m\u001b[0m\u001b[0;34m\u001b[0m\u001b[0m\n\u001b[0m\u001b[1;32m      5\u001b[0m \u001b[0;34m\u001b[0m\u001b[0m\n\u001b[1;32m      6\u001b[0m \u001b[0;32mdef\u001b[0m \u001b[0mpdf\u001b[0m\u001b[0;34m(\u001b[0m\u001b[0mq_0\u001b[0m\u001b[0;34m,\u001b[0m \u001b[0mmu_p\u001b[0m\u001b[0;34m)\u001b[0m\u001b[0;34m:\u001b[0m\u001b[0;34m\u001b[0m\u001b[0;34m\u001b[0m\u001b[0m\n",
      "\u001b[0;31mZeroDivisionError\u001b[0m: division by zero"
     ]
    },
    {
     "data": {
      "image/png": "[encoded data removed]",
      "text/plain": [
       "<Figure size 360x360 with 1 Axes>"
      ]
     },
     "metadata": {
      "needs_background": "light"
     },
     "output_type": "display_data"
    }
   ],
   "source": [
    "\"\"\" Recreat fig 3 (b) on page 24. \"\"\"\n",
    "\n",
    "# Format axes\n",
    "axes = plt.gca()\n",
    "axes.set_yscale('log')\n",
    "axes.set_ylim([10 ** -8, 10])\n",
    "axes.set_xlim([0, 40])\n",
    "axes.set_xlabel('q_0')\n",
    "axes.set_ylabel('f (q_0 | mu)')\n",
    "plt.rcParams[\"figure.figsize\"] = [5, 5]\n",
    "\n",
    "# Plot f(q_0 | 0)\n",
    "x = np.linspace(0, 40, 40_000) # one dimensional vector that represents x values\n",
    "pdfs = np.vectorize(pdf_mu0)(x) # get vector of pdf_mu0 applied to every element of x\n",
    "plt.plot(x, pdfs, color=\"black\")\n",
    "\n",
    "# Plot f(q_0 | 1)\n",
    "x = np.linspace(0, 40, 40_000) # one dimensional vector that represents x values\n",
    "pdfs = np.vectorize(lambda x: pdf(x, 1))(x) # get vector of pdf applied to every element of x\n",
    "plt.plot(x, pdfs, color=\"black\")\n",
    "\n",
    "# Plot b = 2 montecarlo\n",
    "weights = np.ones_like(q_0s_mu0)/float(len(q_0s_mu0))\n",
    "plt.hist(q_0s_mu0, bins=range(100), weights=weights, histtype='step', color='red')\n",
    "\n",
    "plt.show()"
   ]
  },
  {
   "cell_type": "code",
   "execution_count": null,
   "metadata": {},
   "outputs": [],
   "source": []
  },
  {
   "cell_type": "code",
   "execution_count": null,
   "metadata": {},
   "outputs": [],
   "source": []
  }
 ],
 "metadata": {
  "kernelspec": {
   "display_name": "Python 3",
   "language": "python",
   "name": "python3"
  },
  "language_info": {
   "codemirror_mode": {
    "name": "ipython",
    "version": 3
   },
   "file_extension": ".py",
   "mimetype": "text/x-python",
   "name": "python",
   "nbconvert_exporter": "python",
   "pygments_lexer": "ipython3",
   "version": "3.7.7"
  }
 },
 "nbformat": 4,
 "nbformat_minor": 2
}
